{
 "cells": [
  {
   "cell_type": "code",
   "execution_count": 1,
   "id": "689fa9af",
   "metadata": {},
   "outputs": [],
   "source": [
    "import numpy as np\n",
    "import matplotlib.pyplot as plt\n",
    "import seaborn as sns\n",
    "import math"
   ]
  },
  {
   "cell_type": "markdown",
   "id": "0964d141",
   "metadata": {},
   "source": [
    "# Метод Бисекции"
   ]
  },
  {
   "cell_type": "code",
   "execution_count": 6,
   "id": "75de172f",
   "metadata": {},
   "outputs": [
    {
     "name": "stdout",
     "output_type": "stream",
     "text": [
      "x =    0.5235595703\n"
     ]
    }
   ],
   "source": [
    " a = 0.0; b = 2; e = 0.0001\n",
    "def f(x):\n",
    "    return x**4 - 3*x**3 - 6*x**2 + 2\n",
    "y1 = f(a); y2 = f(b)\n",
    "if y1 * y2 >= 0:\n",
    "    print (\"нет корней\")\n",
    "else:\n",
    "    n = 1\n",
    "    x = (a+b)/2\n",
    "    y3 = f(x)\n",
    "    while (abs(y3) > e):\n",
    "        x = (a+b)/2\n",
    "        y3 = f(x);\n",
    "        if y1 * y3 < 0:\n",
    "            b = x\n",
    "        else:\n",
    "            a = x\n",
    "            n += 1\n",
    "    print (\"x = %15.10f\" % (x))"
   ]
  },
  {
   "cell_type": "markdown",
   "id": "2574cb23",
   "metadata": {},
   "source": [
    "# Метод Рунге-Кутта"
   ]
  },
  {
   "cell_type": "code",
   "execution_count": 6,
   "id": "b7b1ceb3",
   "metadata": {},
   "outputs": [
    {
     "ename": "SyntaxError",
     "evalue": "invalid syntax (2641597715.py, line 11)",
     "output_type": "error",
     "traceback": [
      "\u001b[1;36m  Input \u001b[1;32mIn [6]\u001b[1;36m\u001b[0m\n\u001b[1;33m    ilist1 = np.arange(x0, xn+h, h)`\u001b[0m\n\u001b[1;37m                                   ^\u001b[0m\n\u001b[1;31mSyntaxError\u001b[0m\u001b[1;31m:\u001b[0m invalid syntax\n"
     ]
    }
   ],
   "source": [
    "# начальные условия\n",
    "x0 = 0\n",
    "y0 = 0\n",
    "# отрезок [x0, xn], где x0 = 0, xn = 1\n",
    "xn = 2\n",
    "# шаг\n",
    "n = 10\n",
    "h = (xn-x0)/n\n",
    "\n",
    "f1 = lambda x, y: (math.cos(x)/(1.5+x))+0.1*y**2\n",
    "ilist1 = np.arange(x0, xn+h, h)`\n",
    "xlist1 = [(x0+h) for h in ilist1]\n",
    "ylist1 = []\n",
    "prevy1 = y0\n",
    "ylist1.append(prevy1)\n",
    "print(\"\\nметод Рунге-Кутта\")\n",
    "for x in xlist1:\n",
    "    k1=f1(x,prevy1)\n",
    "    k2=f1(x+h/2,prevy1+(h*k1)/2)\n",
    "    k3=f1(x+h,prevy1-h*k1+2*h*k2)\n",
    "    y1 = prevy1 + (h/6)*(k1+4*k2+k3)\n",
    "    if (x!=1):\n",
    "        prevy1 = y1\n",
    "        ylist1.append(prevy1)  \n",
    "for y in ylist1:\n",
    "    print(y)\n",
    "    \n",
    "print(ilist1)    \n",
    "\n",
    "plt.rc('font',**{'family':'verdana'})\n",
    "plt.xlabel(\"X\")\n",
    "plt.ylabel(\"Y\")\n",
    "plt.plot(xlist1, ylist1, \"y-\", label=\"метод Рунге-Кутта\",linewidth=3)\n",
    "plt.legend()\n",
    "plt.grid()\n",
    "plt.show()"
   ]
  },
  {
   "cell_type": "code",
   "execution_count": null,
   "id": "a1153566",
   "metadata": {},
   "outputs": [],
   "source": [
    "points = [\n",
    "    (0, 29.8),\n",
    "    (2, 22.9),\n",
    "    (4, 17.1),\n",
    "    (5, 15.16),\n",
    "    (8, 10.7),\n",
    "    (10, 10.2),\n",
    "    (12, 10.1),\n",
    "    (15, 25.2),\n",
    "]"
   ]
  },
  {
   "cell_type": "markdown",
   "id": "0f78d535",
   "metadata": {},
   "source": [
    "# Метод наименьших квадратов"
   ]
  },
  {
   "cell_type": "code",
   "execution_count": 7,
   "id": "b9000d1a",
   "metadata": {},
   "outputs": [
    {
     "name": "stdout",
     "output_type": "stream",
     "text": [
      "5.025\n",
      "5.947177419354834\n"
     ]
    },
    {
     "data": {
      "image/png": "[encoded data removed]",
      "text/plain": [
       "<Figure size 640x480 with 1 Axes>"
      ]
     },
     "metadata": {},
     "output_type": "display_data"
    }
   ],
   "source": [
    "points = [\n",
    "    (1, 5.3),\n",
    "    (2, 6.3),\n",
    "    (3, 4.8),\n",
    "    (4, 3.8),\n",
    "    (5, 3.3),\n",
    "]\n",
    "def draw(points, p, new_h, x_lim=(0, 3), y_lim=(-200, 200)):\n",
    "    x_vec = [point[0] for point in points]\n",
    "    y_vec = [point[1] for point in points]\n",
    " \n",
    "    plt.scatter(x_vec, y_vec)\n",
    " \n",
    "    new_x = []\n",
    "    x = min(x_vec)\n",
    "    x_n = max(x_vec)\n",
    "    while x <= x_n:\n",
    "        new_x.append(x)\n",
    "        x += new_h\n",
    " \n",
    "    new_x.append(x_n)\n",
    " \n",
    "    new_y = [p(x) for x in new_x]\n",
    " \n",
    "    plt.plot(new_x, new_y, 'gray')\n",
    " \n",
    " \n",
    "def linear_function(points):\n",
    "    x_vec = [point[0] for point in points]\n",
    "    y_vec = [point[1] for point in points]\n",
    "    n = len(points)\n",
    " \n",
    "    sum_x = sum(x_vec)\n",
    "    sum_y = sum(y_vec)\n",
    "    sum_x2 = sum(map(lambda x: x ** 2, x_vec))\n",
    "    sum_xy = np.dot(np.array(x_vec), np.array(y_vec))\n",
    " \n",
    "    slu = np.array([[n, sum_x], [sum_x, sum_x2]])\n",
    "    b = np.array([sum_y, sum_xy])\n",
    " \n",
    "    a0, a1 = np.linalg.solve(slu, b)\n",
    " \n",
    "    def f(x):\n",
    "        return a1 * x + a0\n",
    "    print(f(2.5))\n",
    "    \n",
    "    return f\n",
    "\n",
    "def quadratic_function(points):\n",
    "    x_vec = [point[0] for point in points]\n",
    "    y_vec = [point[1] for point in points]\n",
    "    n = len(points)\n",
    " \n",
    "    mx = 1 / n * sum(x_vec)\n",
    "    mx2 = 1 / n * sum(map(lambda x: x ** 2, x_vec))\n",
    "    mx3 = 1 / n * sum(map(lambda x: x ** 3, x_vec))\n",
    "    mx4 = 1 / n * sum(map(lambda x: x ** 4, x_vec))\n",
    "    my = 1 / n * sum(y_vec)\n",
    "    mxy = 1 / n * np.dot(np.array(x_vec), np.array(y_vec))\n",
    "    mx2y = 1 / n * np.dot(np.array(list(map(lambda x: x ** 2, x_vec))), np.array(y_vec))\n",
    " \n",
    "    slu = np.array([[mx4, mx3, mx2], [mx3, mx2, mx], [mx2, mx, n]])\n",
    "    b = np.array([mx2y, mxy, my])\n",
    " \n",
    "    a0, a1, a2 = np.linalg.solve(slu, b)\n",
    " \n",
    "    def f(x):\n",
    "        return a0 * x ** 2 + a1 * x + a2\n",
    "    print(f(2.5))\n",
    " \n",
    "    return f\n",
    "\n",
    "lin = linear_function(points)\n",
    "draw(points, lin, 0.01, x_lim=(0, 10), y_lim=(-30, 30))\n",
    "quadro = quadratic_function(points)\n",
    "draw(points, quadro, 0.01, x_lim=(0, 10), y_lim=(-30, 30))\n",
    "\n",
    "ax = plt.gca()\n",
    "ax.spines['left'].set_position('zero')\n",
    "ax.spines['bottom'].set_position('zero')\n",
    "ax.spines['right'].set_color('none')\n",
    "ax.spines['top'].set_color('none')\n",
    "ax.xaxis.set_ticks_position('bottom')\n",
    "ax.yaxis.set_ticks_position('left')\n",
    "ax.set_xlim(0, 10)\n",
    "ax.set_ylim(0, 10)\n",
    "plt.xlabel(\"X\")\n",
    "plt.ylabel(\"Y\")\n",
    "plt.grid()\n",
    " \n",
    "plt.show()\n"
   ]
  },
  {
   "cell_type": "code",
   "execution_count": null,
   "id": "c1392c17",
   "metadata": {},
   "outputs": [],
   "source": []
  }
 ],
 "metadata": {
  "kernelspec": {
   "display_name": "Python 3 (ipykernel)",
   "language": "python",
   "name": "python3"
  },
  "language_info": {
   "codemirror_mode": {
    "name": "ipython",
    "version": 3
   },
   "file_extension": ".py",
   "mimetype": "text/x-python",
   "name": "python",
   "nbconvert_exporter": "python",
   "pygments_lexer": "ipython3",
   "version": "3.9.0"
  }
 },
 "nbformat": 4,
 "nbformat_minor": 5
}
